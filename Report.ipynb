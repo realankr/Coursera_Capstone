{
    "cells": [
        {
            "cell_type": "markdown",
            "metadata": {
                "collapsed": true
            },
            "source": "\n\n\n\n\nIntroduction:\n\n\n\nIntroduction & Business Problem:\nProblem Background:\nToronto is one of the biggest cities in Canada. It has diverse and multicultural population which brings with Its food culture that includes an array of international cuisines influenced by the city's immigrants. The city is home to \"nearly one thousand of the finest and most diverse haute cuisine restaurants in the world\", according to Michelin so it is evident that to survive in such competitive market it is very important to strategically plan. Various factors need to be studied in order to decide on the Location such as: Population Demographics Are there any Farmers Markets, Wholesale markets etc nearby so that the ingredients can be purchased fresh to maintain quality and cost? Are there any venues like Gyms, Entertainment zones, Parks etc nearby where floating population is high etc? Who are the competitors in that location? Cuisine served / Menu of the competitors Segmentation of the Borough Untapped markets Saturated markets etc The list can go on... Even though well-funded XYZ Company Ltd. need to choose the correct location to start its first venture. If this is successful they can replicate the same in other locations. First move is very important, thereby choice of location is very important. Target Audience: To recommend the correct location, XYZ Company Ltd has appointed me to lead of the Data Science team. The objective is to locate and recommend to the management which neighbourhood of Toronto will be best choice to start a restaurant. The Management also expects to understand the rationale of the recommendations made. This would interest anyone who wants to start a new restaurant in Toronto.\nData:\nWikipedia for Toronto Neighborhood Borough Designation : Each of the 140 social planning neighborhoods of Toronto reside within a defined borough. While the City of Toronto is a singular municipality, the 140 neighborhoods are still grouped into six distinct boroughs. Foursquare API to collect information on other venues/competitors in the neighborhoods of Toronto\nSuccess Criteria: The success criteria of the project will be a good recommendation of borough/Neighbourhood choice to XYZ Company Ltd based on Lack of such restaurants in that location and nearest suppliers of ingredients.\n\nData Acquisition and Cleaning:\n\na) the data I am using is from the wiki portal : https://en.wikipedia.org/wiki/List_of_postal_codes_of_Canada:_M . THis data set has all the information of the neighbourhood data of the Toronto.\nb) Then to get the geo graphical coordinates of the neighbor hood by using the foursquare api and geopy library\nc) Other venue location are also fetched using the foursquare API\n\nThe data from the wikipedia source is scarped and imported directly to the dataframe in pandas. The dataframe consisted of three columns namely PostalCode, Borough, and Neighborhood. The dataframe whose value is not null in the Borough field is considered rest data are ignored, and if there are two postal Code we conbine those two rows to one.\n\nWiki Scraped Data:\n\n- Getting Latlong Data using get_latilong Function\n- Plotting the map of Scarborough using the folium library\n- Connecting to  Foursquare API to get data\n\nThe foursquare developers client id and client secret is used to fetch the data\u2019s needed data about different venues in different neighborhoods of that specific borough. The In-formations gathered from the foursquare API are\n\n1. Neighborhood\n2. Neighborhood Latitude\n3. Neighborhood Longitude\n4. Venue\n5. Name of the venue e.g. the name of a store or restaurant\n6. Venue Latitude\n7. Venue Longitude\n8. Venue Category\n\nResults and Discussion Section\n\nI feel rewarded with the efforts and believe this course with all the topics covered is well worthy of appreciation.\nThis project has shown me a practical application to resolve a real situation that has impacting personal and financial impact using Data Science tools.\n\nThe mapping with Folium is a very powerful technique to consolidate information and make the analysis and decision better with confidence.\n\n\n"
        },
        {
            "cell_type": "code",
            "execution_count": null,
            "metadata": {},
            "outputs": [],
            "source": ""
        }
    ],
    "metadata": {
        "kernelspec": {
            "display_name": "Python 3.6",
            "language": "python",
            "name": "python3"
        },
        "language_info": {
            "codemirror_mode": {
                "name": "ipython",
                "version": 3
            },
            "file_extension": ".py",
            "mimetype": "text/x-python",
            "name": "python",
            "nbconvert_exporter": "python",
            "pygments_lexer": "ipython3",
            "version": "3.6.9"
        }
    },
    "nbformat": 4,
    "nbformat_minor": 1
}