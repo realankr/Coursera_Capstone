{
    "cells": [
        {
            "cell_type": "code",
            "execution_count": 1,
            "metadata": {},
            "outputs": [
                {
                    "name": "stdout",
                    "output_type": "stream",
                    "text": "Collecting geocoder\n\u001b[?25l  Downloading https://files.pythonhosted.org/packages/4f/6b/13166c909ad2f2d76b929a4227c952630ebaf0d729f6317eb09cbceccbab/geocoder-1.38.1-py2.py3-none-any.whl (98kB)\n\u001b[K     |\u2588\u2588\u2588\u2588\u2588\u2588\u2588\u2588\u2588\u2588\u2588\u2588\u2588\u2588\u2588\u2588\u2588\u2588\u2588\u2588\u2588\u2588\u2588\u2588\u2588\u2588\u2588\u2588\u2588\u2588\u2588\u2588| 102kB 8.6MB/s ta 0:00:011\n\u001b[?25hRequirement already satisfied: six in /opt/conda/envs/Python36/lib/python3.6/site-packages (from geocoder) (1.12.0)\nRequirement already satisfied: click in /opt/conda/envs/Python36/lib/python3.6/site-packages (from geocoder) (7.0)\nCollecting ratelim (from geocoder)\n  Downloading https://files.pythonhosted.org/packages/f2/98/7e6d147fd16a10a5f821db6e25f192265d6ecca3d82957a4fdd592cad49c/ratelim-0.1.6-py2.py3-none-any.whl\nRequirement already satisfied: future in /opt/conda/envs/Python36/lib/python3.6/site-packages (from geocoder) (0.17.1)\nRequirement already satisfied: requests in /opt/conda/envs/Python36/lib/python3.6/site-packages (from geocoder) (2.21.0)\nRequirement already satisfied: decorator in /opt/conda/envs/Python36/lib/python3.6/site-packages (from ratelim->geocoder) (4.3.2)\nRequirement already satisfied: certifi>=2017.4.17 in /opt/conda/envs/Python36/lib/python3.6/site-packages (from requests->geocoder) (2020.4.5.1)\nRequirement already satisfied: chardet<3.1.0,>=3.0.2 in /opt/conda/envs/Python36/lib/python3.6/site-packages (from requests->geocoder) (3.0.4)\nRequirement already satisfied: urllib3<1.25,>=1.21.1 in /opt/conda/envs/Python36/lib/python3.6/site-packages (from requests->geocoder) (1.24.1)\nRequirement already satisfied: idna<2.9,>=2.5 in /opt/conda/envs/Python36/lib/python3.6/site-packages (from requests->geocoder) (2.8)\nInstalling collected packages: ratelim, geocoder\nSuccessfully installed geocoder-1.38.1 ratelim-0.1.6\nCollecting folium\n\u001b[?25l  Downloading https://files.pythonhosted.org/packages/a4/f0/44e69d50519880287cc41e7c8a6acc58daa9a9acf5f6afc52bcc70f69a6d/folium-0.11.0-py2.py3-none-any.whl (93kB)\n\u001b[K     |\u2588\u2588\u2588\u2588\u2588\u2588\u2588\u2588\u2588\u2588\u2588\u2588\u2588\u2588\u2588\u2588\u2588\u2588\u2588\u2588\u2588\u2588\u2588\u2588\u2588\u2588\u2588\u2588\u2588\u2588\u2588\u2588| 102kB 7.9MB/s ta 0:00:011\n\u001b[?25hRequirement already satisfied: jinja2>=2.9 in /opt/conda/envs/Python36/lib/python3.6/site-packages (from folium) (2.10)\nCollecting branca>=0.3.0 (from folium)\n  Downloading https://files.pythonhosted.org/packages/13/fb/9eacc24ba3216510c6b59a4ea1cd53d87f25ba76237d7f4393abeaf4c94e/branca-0.4.1-py3-none-any.whl\nRequirement already satisfied: numpy in /opt/conda/envs/Python36/lib/python3.6/site-packages (from folium) (1.15.4)\nRequirement already satisfied: requests in /opt/conda/envs/Python36/lib/python3.6/site-packages (from folium) (2.21.0)\nRequirement already satisfied: MarkupSafe>=0.23 in /opt/conda/envs/Python36/lib/python3.6/site-packages (from jinja2>=2.9->folium) (1.1.0)\nRequirement already satisfied: chardet<3.1.0,>=3.0.2 in /opt/conda/envs/Python36/lib/python3.6/site-packages (from requests->folium) (3.0.4)\nRequirement already satisfied: idna<2.9,>=2.5 in /opt/conda/envs/Python36/lib/python3.6/site-packages (from requests->folium) (2.8)\nRequirement already satisfied: urllib3<1.25,>=1.21.1 in /opt/conda/envs/Python36/lib/python3.6/site-packages (from requests->folium) (1.24.1)\nRequirement already satisfied: certifi>=2017.4.17 in /opt/conda/envs/Python36/lib/python3.6/site-packages (from requests->folium) (2020.4.5.1)\nInstalling collected packages: branca, folium\nSuccessfully installed branca-0.4.1 folium-0.11.0\nPackages installed.\n"
                }
            ],
            "source": "import sys\n!{sys.executable} -m pip install geocoder\n!{sys.executable} -m pip install folium\n\nprint('Packages installed.')"
        },
        {
            "cell_type": "code",
            "execution_count": 2,
            "metadata": {},
            "outputs": [
                {
                    "name": "stdout",
                    "output_type": "stream",
                    "text": "\nThe following command must be run outside of the IPython shell:\n\n    $ pip install BeautifulSoup4\n\nThe Python package manager (pip) can only be used from outside of IPython.\nPlease reissue the `pip` command in a separate terminal or command prompt.\n\nSee the Python documentation for more information on how to install packages:\n\n    https://docs.python.org/3/installing/\n"
                }
            ],
            "source": "pip install BeautifulSoup4"
        },
        {
            "cell_type": "code",
            "execution_count": 3,
            "metadata": {},
            "outputs": [
                {
                    "name": "stdout",
                    "output_type": "stream",
                    "text": "Libraries imported.\n"
                }
            ],
            "source": "import numpy as np # library to handle data in a vectorized manner\nimport pandas as pd # library for data analsysis\nimport geocoder # import geocoder\nimport requests \nfrom bs4 import BeautifulSoup \n\n# Matplotlib and associated plotting modules\nimport matplotlib.cm as cm\nimport matplotlib.colors as colors\n\n# import k-means from clustering stage\nfrom sklearn.cluster import KMeans\n\n#!conda install -c conda-forge folium=0.5.0 --yes # uncomment this line if you haven't completed the Foursquare API lab\nimport folium # map rendering library\n\nprint('Libraries imported.')"
        },
        {
            "cell_type": "code",
            "execution_count": 4,
            "metadata": {},
            "outputs": [
                {
                    "name": "stdout",
                    "output_type": "stream",
                    "text": "Page Scrapped.\n"
                }
            ],
            "source": "URL = \"https://en.wikipedia.org/wiki/List_of_postal_codes_of_Canada:_M\"\nr = requests.get(URL) \n  \nsoup = BeautifulSoup(r.content, 'html5lib') \ntable = soup.find('div', attrs = {'id':'container'}) \n\n# print(soup.prettify()) \nprint('Page Scrapped.')"
        },
        {
            "cell_type": "code",
            "execution_count": 5,
            "metadata": {},
            "outputs": [
                {
                    "name": "stdout",
                    "output_type": "stream",
                    "text": "Data Collected.\n"
                }
            ],
            "source": "postalCodes = [];\nboroughs= [];\nneighborhoods = [];\ncolumnNum = 1;\npassVal = False\n\nfor row in soup.find_all('td'):\n    for cell in row:\n        if cell.string and cell.string[0].isalpha() and len(cell.string) > 2:\n            passVal = False\n            if columnNum == 1:\n                if passVal == False and cell.string[1].isdigit():\n                    postalCodes.append(cell.string);   \n                    columnNum = 2\n                else:\n                    continue\n            elif columnNum == 2 :\n                if cell.string == 'Not assigned':\n                    passVal = True\n                    del postalCodes[-1]\n                    columnNum = 1\n                    continue\n                else:\n                    boroughs.append(cell.string);      \n                    columnNum = 3\n            elif columnNum == 3 :\n                if cell.string == 'Not assigned\\n':\n                    neighborhoods.append(boroughs[-1])\n                else:\n                    neighborhoods.append(cell.string); \n                columnNum = 1\n                \nprint('Data Collected.')"
        },
        {
            "cell_type": "code",
            "execution_count": 6,
            "metadata": {},
            "outputs": [
                {
                    "data": {
                        "text/html": "<div>\n<style scoped>\n    .dataframe tbody tr th:only-of-type {\n        vertical-align: middle;\n    }\n\n    .dataframe tbody tr th {\n        vertical-align: top;\n    }\n\n    .dataframe thead th {\n        text-align: right;\n    }\n</style>\n<table border=\"1\" class=\"dataframe\">\n  <thead>\n    <tr style=\"text-align: right;\">\n      <th></th>\n      <th>PostalCode</th>\n      <th>Borough</th>\n      <th>Neighborhood</th>\n      <th>Latitude</th>\n      <th>Longitude</th>\n    </tr>\n  </thead>\n  <tbody>\n  </tbody>\n</table>\n</div>",
                        "text/plain": "Empty DataFrame\nColumns: [PostalCode, Borough, Neighborhood, Latitude, Longitude]\nIndex: []"
                    },
                    "execution_count": 6,
                    "metadata": {},
                    "output_type": "execute_result"
                }
            ],
            "source": "# define the dataframe columns\ncolumn_names = ['PostalCode', 'Borough', 'Neighborhood', 'Latitude', 'Longitude'] \n\n# instantiate the dataframe\nneighbors = pd.DataFrame(columns=column_names)\n\nneighbors"
        },
        {
            "cell_type": "code",
            "execution_count": 7,
            "metadata": {},
            "outputs": [
                {
                    "name": "stderr",
                    "output_type": "stream",
                    "text": "Status code Unknown from https://geocode.arcgis.com/arcgis/rest/services/World/GeocodeServer/find: ERROR - HTTPSConnectionPool(host='geocode.arcgis.com', port=443): Read timed out. (read timeout=5.0)\n"
                },
                {
                    "ename": "TypeError",
                    "evalue": "'NoneType' object is not subscriptable",
                    "output_type": "error",
                    "traceback": [
                        "\u001b[0;31m---------------------------------------------------------------------------\u001b[0m",
                        "\u001b[0;31mTypeError\u001b[0m                                 Traceback (most recent call last)",
                        "\u001b[0;32m<ipython-input-7-0f1f6de5d3af>\u001b[0m in \u001b[0;36m<module>\u001b[0;34m\u001b[0m\n\u001b[1;32m     13\u001b[0m                                    \u001b[0;34m'Borough'\u001b[0m\u001b[0;34m:\u001b[0m \u001b[0mborough\u001b[0m\u001b[0;34m,\u001b[0m\u001b[0;34m\u001b[0m\u001b[0;34m\u001b[0m\u001b[0m\n\u001b[1;32m     14\u001b[0m                                    \u001b[0;34m'Neighborhood'\u001b[0m\u001b[0;34m:\u001b[0m \u001b[0mneighborhood_name\u001b[0m\u001b[0;34m,\u001b[0m\u001b[0;34m\u001b[0m\u001b[0;34m\u001b[0m\u001b[0m\n\u001b[0;32m---> 15\u001b[0;31m                                    \u001b[0;34m'Latitude'\u001b[0m\u001b[0;34m:\u001b[0m \u001b[0mlat_lng_coords\u001b[0m\u001b[0;34m[\u001b[0m\u001b[0;36m0\u001b[0m\u001b[0;34m]\u001b[0m\u001b[0;34m,\u001b[0m\u001b[0;34m\u001b[0m\u001b[0;34m\u001b[0m\u001b[0m\n\u001b[0m\u001b[1;32m     16\u001b[0m                                    'Longitude': lat_lng_coords[1]}, ignore_index=True)\n",
                        "\u001b[0;31mTypeError\u001b[0m: 'NoneType' object is not subscriptable"
                    ]
                }
            ],
            "source": "# initialize your variable to None\nlat_lng_coords = None\n\nfor data in range(0, len(postalCodes)-1):\n    code = postalCodes[data]\n    borough = boroughs[data]\n    neighborhood_name = neighborhoods[data]\n    \n    g = geocoder.arcgis('{}, Toronto, Ontario'.format(code))\n    lat_lng_coords = g.latlng\n\n    neighbors = neighbors.append({ 'PostalCode': code,\n                                   'Borough': borough,\n                                   'Neighborhood': neighborhood_name,\n                                   'Latitude': lat_lng_coords[0],\n                                   'Longitude': lat_lng_coords[1]}, ignore_index=True)"
        },
        {
            "cell_type": "code",
            "execution_count": 8,
            "metadata": {},
            "outputs": [
                {
                    "data": {
                        "text/html": "<div>\n<style scoped>\n    .dataframe tbody tr th:only-of-type {\n        vertical-align: middle;\n    }\n\n    .dataframe tbody tr th {\n        vertical-align: top;\n    }\n\n    .dataframe thead th {\n        text-align: right;\n    }\n</style>\n<table border=\"1\" class=\"dataframe\">\n  <thead>\n    <tr style=\"text-align: right;\">\n      <th></th>\n      <th>PostalCode</th>\n      <th>Borough</th>\n      <th>Neighborhood</th>\n      <th>Latitude</th>\n      <th>Longitude</th>\n    </tr>\n  </thead>\n  <tbody>\n    <tr>\n      <th>0</th>\n      <td>M1A</td>\n      <td>Not assigned</td>\n      <td>Not assigned</td>\n      <td>43.648690</td>\n      <td>-79.385440</td>\n    </tr>\n    <tr>\n      <th>1</th>\n      <td>M2A</td>\n      <td>Not assigned</td>\n      <td>Not assigned</td>\n      <td>43.648690</td>\n      <td>-79.385440</td>\n    </tr>\n    <tr>\n      <th>2</th>\n      <td>M3A</td>\n      <td>North York</td>\n      <td>Parkwoods</td>\n      <td>43.752935</td>\n      <td>-79.335641</td>\n    </tr>\n    <tr>\n      <th>3</th>\n      <td>M4A</td>\n      <td>North York</td>\n      <td>Victoria Village</td>\n      <td>43.728102</td>\n      <td>-79.311890</td>\n    </tr>\n    <tr>\n      <th>4</th>\n      <td>M5A</td>\n      <td>Downtown Toronto</td>\n      <td>Regent Park, Harbourfront</td>\n      <td>43.650964</td>\n      <td>-79.353041</td>\n    </tr>\n    <tr>\n      <th>5</th>\n      <td>M6A</td>\n      <td>North York</td>\n      <td>Lawrence Manor, Lawrence Heights</td>\n      <td>43.723265</td>\n      <td>-79.451211</td>\n    </tr>\n    <tr>\n      <th>6</th>\n      <td>M7A</td>\n      <td>Downtown Toronto</td>\n      <td>Queen's Park, Ontario Provincial Government</td>\n      <td>43.661790</td>\n      <td>-79.389390</td>\n    </tr>\n  </tbody>\n</table>\n</div>",
                        "text/plain": "  PostalCode            Borough                                  Neighborhood  \\\n0       M1A\n      Not assigned\n                                 Not assigned\n   \n1       M2A\n      Not assigned\n                                 Not assigned\n   \n2       M3A\n        North York\n                                    Parkwoods\n   \n3       M4A\n        North York\n                             Victoria Village\n   \n4       M5A\n  Downtown Toronto\n                    Regent Park, Harbourfront\n   \n5       M6A\n        North York\n             Lawrence Manor, Lawrence Heights\n   \n6       M7A\n  Downtown Toronto\n  Queen's Park, Ontario Provincial Government\n   \n\n    Latitude  Longitude  \n0  43.648690 -79.385440  \n1  43.648690 -79.385440  \n2  43.752935 -79.335641  \n3  43.728102 -79.311890  \n4  43.650964 -79.353041  \n5  43.723265 -79.451211  \n6  43.661790 -79.389390  "
                    },
                    "execution_count": 8,
                    "metadata": {},
                    "output_type": "execute_result"
                }
            ],
            "source": "neighbors"
        },
        {
            "cell_type": "code",
            "execution_count": 9,
            "metadata": {},
            "outputs": [
                {
                    "data": {
                        "text/plain": "(7, 5)"
                    },
                    "execution_count": 9,
                    "metadata": {},
                    "output_type": "execute_result"
                }
            ],
            "source": "neighbors.shape"
        },
        {
            "cell_type": "code",
            "execution_count": 10,
            "metadata": {},
            "outputs": [
                {
                    "name": "stdout",
                    "output_type": "stream",
                    "text": "Latitude and longitude values of Not assigned\n are 43.648690000000045, -79.38543999999996.\n"
                },
                {
                    "data": {
                        "text/plain": "{'meta': {'code': 200, 'requestId': '5ee155f5cf9b553d6825d8ea'},\n 'response': {'headerLocation': 'The Beaches',\n  'headerFullLocation': 'The Beaches, Toronto',\n  'headerLocationGranularity': 'neighborhood',\n  'totalResults': 4,\n  'suggestedBounds': {'ne': {'lat': 43.680857404499996,\n    'lng': -79.28682091449052},\n   'sw': {'lat': 43.67185739549999, 'lng': -79.29924148550948}},\n  'groups': [{'type': 'Recommended Places',\n    'name': 'recommended',\n    'items': [{'reasons': {'count': 0,\n       'items': [{'summary': 'This spot is popular',\n         'type': 'general',\n         'reasonName': 'globalInteractionReason'}]},\n      'venue': {'id': '4bd461bc77b29c74a07d9282',\n       'name': 'Glen Manor Ravine',\n       'location': {'address': 'Glen Manor',\n        'crossStreet': 'Queen St.',\n        'lat': 43.67682094413784,\n        'lng': -79.29394208780985,\n        'labeledLatLngs': [{'label': 'display',\n          'lat': 43.67682094413784,\n          'lng': -79.29394208780985}],\n        'distance': 89,\n        'cc': 'CA',\n        'city': 'Toronto',\n        'state': 'ON',\n        'country': 'Canada',\n        'formattedAddress': ['Glen Manor (Queen St.)',\n         'Toronto ON',\n         'Canada']},\n       'categories': [{'id': '4bf58dd8d48988d159941735',\n         'name': 'Trail',\n         'pluralName': 'Trails',\n         'shortName': 'Trail',\n         'icon': {'prefix': 'https://ss3.4sqi.net/img/categories_v2/parks_outdoors/hikingtrail_',\n          'suffix': '.png'},\n         'primary': True}],\n       'photos': {'count': 0, 'groups': []}},\n      'referralId': 'e-0-4bd461bc77b29c74a07d9282-0'},\n     {'reasons': {'count': 0,\n       'items': [{'summary': 'This spot is popular',\n         'type': 'general',\n         'reasonName': 'globalInteractionReason'}]},\n      'venue': {'id': '4ad4c062f964a52011f820e3',\n       'name': 'The Big Carrot Natural Food Market',\n       'location': {'address': '125 Southwood Dr',\n        'lat': 43.678879,\n        'lng': -79.297734,\n        'labeledLatLngs': [{'label': 'display',\n          'lat': 43.678879,\n          'lng': -79.297734}],\n        'distance': 471,\n        'postalCode': 'M4E 0B8',\n        'cc': 'CA',\n        'city': 'Toronto',\n        'state': 'ON',\n        'country': 'Canada',\n        'formattedAddress': ['125 Southwood Dr',\n         'Toronto ON M4E 0B8',\n         'Canada']},\n       'categories': [{'id': '50aa9e744b90af0d42d5de0e',\n         'name': 'Health Food Store',\n         'pluralName': 'Health Food Stores',\n         'shortName': 'Health Food Store',\n         'icon': {'prefix': 'https://ss3.4sqi.net/img/categories_v2/shops/food_grocery_',\n          'suffix': '.png'},\n         'primary': True}],\n       'photos': {'count': 0, 'groups': []},\n       'venuePage': {'id': '75150878'}},\n      'referralId': 'e-0-4ad4c062f964a52011f820e3-1'},\n     {'reasons': {'count': 0,\n       'items': [{'summary': 'This spot is popular',\n         'type': 'general',\n         'reasonName': 'globalInteractionReason'}]},\n      'venue': {'id': '4b8daea1f964a520480833e3',\n       'name': 'Grover Pub and Grub',\n       'location': {'address': '676 Kingston Rd.',\n        'crossStreet': 'at Main St.',\n        'lat': 43.679181434941015,\n        'lng': -79.29721535878515,\n        'labeledLatLngs': [{'label': 'display',\n          'lat': 43.679181434941015,\n          'lng': -79.29721535878515}],\n        'distance': 460,\n        'postalCode': 'M4E 1R4',\n        'cc': 'CA',\n        'city': 'Toronto',\n        'state': 'ON',\n        'country': 'Canada',\n        'formattedAddress': ['676 Kingston Rd. (at Main St.)',\n         'Toronto ON M4E 1R4',\n         'Canada']},\n       'categories': [{'id': '4bf58dd8d48988d11b941735',\n         'name': 'Pub',\n         'pluralName': 'Pubs',\n         'shortName': 'Pub',\n         'icon': {'prefix': 'https://ss3.4sqi.net/img/categories_v2/nightlife/pub_',\n          'suffix': '.png'},\n         'primary': True}],\n       'photos': {'count': 0, 'groups': []}},\n      'referralId': 'e-0-4b8daea1f964a520480833e3-2'},\n     {'reasons': {'count': 0,\n       'items': [{'summary': 'This spot is popular',\n         'type': 'general',\n         'reasonName': 'globalInteractionReason'}]},\n      'venue': {'id': '4df91c4bae60f95f82229ad5',\n       'name': 'Upper Beaches',\n       'location': {'lat': 43.68056321147582,\n        'lng': -79.2928688743688,\n        'labeledLatLngs': [{'label': 'display',\n          'lat': 43.68056321147582,\n          'lng': -79.2928688743688}],\n        'distance': 468,\n        'cc': 'CA',\n        'city': 'Toronto',\n        'state': 'ON',\n        'country': 'Canada',\n        'formattedAddress': ['Toronto ON', 'Canada']},\n       'categories': [{'id': '4f2a25ac4b909258e854f55f',\n         'name': 'Neighborhood',\n         'pluralName': 'Neighborhoods',\n         'shortName': 'Neighborhood',\n         'icon': {'prefix': 'https://ss3.4sqi.net/img/categories_v2/parks_outdoors/neighborhood_',\n          'suffix': '.png'},\n         'primary': True}],\n       'photos': {'count': 0, 'groups': []}},\n      'referralId': 'e-0-4df91c4bae60f95f82229ad5-3'}]}]}}"
                    },
                    "execution_count": 10,
                    "metadata": {},
                    "output_type": "execute_result"
                }
            ],
            "source": "VERSION = '20200611' # Foursquare API version\n\nneighborhood_name = neighbors.loc[0, 'Neighborhood'] # neighborhood name\nneighborhood_latitude = neighbors.loc[0, 'Latitude'] # neighborhood latitude value\nneighborhood_longitude = neighbors.loc[0, 'Longitude'] # neighborhood longitude value\n\nprint('Latitude and longitude values of {} are {}, {}.'.format(neighborhood_name, \n                                                               neighborhood_latitude, \n                                                               neighborhood_longitude))\n\nradius = 500 # define radius\nLIMIT = 100 # limit of number of venues returned by Foursquare API\n\n# url = 'https://api.foursquare.com/v2/venues/explore?&client_id={}&client_secret={}&v={20200611}&ll={43.67635739999999},{79.2930312}&radius={}&limit={}'.format(\n#     CLIENT_ID, \n#     CLIENT_SECRET, \n#     VERSION, \n#     43.67635739999999, \n#     79.2930312, \n#     radius, \n#     LIMIT)\n\nurl = 'https://api.foursquare.com/v2/venues/explore?&client_id=&client_secret=&v=20180605&ll=43.67635739999999,-79.2930312&radius=500&limit=100'\n\nresults = requests.get(url).json()\nresults"
        },
        {
            "cell_type": "code",
            "execution_count": 11,
            "metadata": {},
            "outputs": [],
            "source": "# function that extracts the category of the venue\ndef get_category_type(row):\n    try:\n        categories_list = row['categories']\n    except:\n        categories_list = row['venue.categories']\n        \n    if len(categories_list) == 0:\n        return None\n    else:\n        return categories_list[0]['name']"
        },
        {
            "cell_type": "code",
            "execution_count": 12,
            "metadata": {},
            "outputs": [
                {
                    "data": {
                        "text/html": "<div>\n<style scoped>\n    .dataframe tbody tr th:only-of-type {\n        vertical-align: middle;\n    }\n\n    .dataframe tbody tr th {\n        vertical-align: top;\n    }\n\n    .dataframe thead th {\n        text-align: right;\n    }\n</style>\n<table border=\"1\" class=\"dataframe\">\n  <thead>\n    <tr style=\"text-align: right;\">\n      <th></th>\n      <th>name</th>\n      <th>categories</th>\n      <th>lat</th>\n      <th>lng</th>\n    </tr>\n  </thead>\n  <tbody>\n    <tr>\n      <th>0</th>\n      <td>Glen Manor Ravine</td>\n      <td>Trail</td>\n      <td>43.676821</td>\n      <td>-79.293942</td>\n    </tr>\n    <tr>\n      <th>1</th>\n      <td>The Big Carrot Natural Food Market</td>\n      <td>Health Food Store</td>\n      <td>43.678879</td>\n      <td>-79.297734</td>\n    </tr>\n    <tr>\n      <th>2</th>\n      <td>Grover Pub and Grub</td>\n      <td>Pub</td>\n      <td>43.679181</td>\n      <td>-79.297215</td>\n    </tr>\n    <tr>\n      <th>3</th>\n      <td>Upper Beaches</td>\n      <td>Neighborhood</td>\n      <td>43.680563</td>\n      <td>-79.292869</td>\n    </tr>\n  </tbody>\n</table>\n</div>",
                        "text/plain": "                                 name         categories        lat        lng\n0                   Glen Manor Ravine              Trail  43.676821 -79.293942\n1  The Big Carrot Natural Food Market  Health Food Store  43.678879 -79.297734\n2                 Grover Pub and Grub                Pub  43.679181 -79.297215\n3                       Upper Beaches       Neighborhood  43.680563 -79.292869"
                    },
                    "execution_count": 12,
                    "metadata": {},
                    "output_type": "execute_result"
                }
            ],
            "source": "from pandas.io.json import json_normalize\n\nvenues = results['response']['groups'][0]['items']\n    \nnearby_venues = json_normalize(venues) # flatten JSON\n\n# filter columns\nfiltered_columns = ['venue.name', 'venue.categories', 'venue.location.lat', 'venue.location.lng']\nnearby_venues =nearby_venues.loc[:, filtered_columns]\n\n# filter the category for each row\nnearby_venues['venue.categories'] = nearby_venues.apply(get_category_type, axis=1)\n\n# clean columns\nnearby_venues.columns = [col.split(\".\")[-1] for col in nearby_venues.columns]\n\nnearby_venues.head()"
        },
        {
            "cell_type": "code",
            "execution_count": 13,
            "metadata": {},
            "outputs": [
                {
                    "name": "stdout",
                    "output_type": "stream",
                    "text": "4 venues were returned by Foursquare.\n"
                }
            ],
            "source": "print('{} venues were returned by Foursquare.'.format(nearby_venues.shape[0]))"
        },
        {
            "cell_type": "code",
            "execution_count": 14,
            "metadata": {},
            "outputs": [],
            "source": "def getNearbyVenues(names, latitudes, longitudes):\n    \n    venues_list=[]\n    for name, lat, lng in zip(names, latitudes, longitudes):\n        print(name)\n\n        # create the API request URL\n#         url = 'https://api.foursquare.com/v2/venues/explore?&client_id={}&client_secret={}&v={}&ll={},{}&radius={}&limit={}'.format(\n#             CLIENT_ID, \n#             CLIENT_SECRET, \n#             VERSION, \n#             lat, \n#             lng, \n#             radius, \n#             LIMIT)\n        \n        # make the GET request\n        results = requests.get(url).json()[\"response\"]['groups'][0]['items']\n        \n        # return only relevant information for each nearby venue\n        venues_list.append([(\n            name, \n            lat, \n            lng, \n            v['venue']['name'], \n            v['venue']['location']['lat'], \n            v['venue']['location']['lng'],  \n            v['venue']['categories'][0]['name']) for v in results])\n\n    nearby_venues = pd.DataFrame([item for venue_list in venues_list for item in venue_list])\n    nearby_venues.columns = ['Neighborhood', \n                  'Neighborhood Latitude', \n                  'Neighborhood Longitude', \n                  'Venue', \n                  'Venue Latitude', \n                  'Venue Longitude', \n                  'Venue Category']\n    \n    return(nearby_venues)"
        },
        {
            "cell_type": "code",
            "execution_count": 15,
            "metadata": {},
            "outputs": [
                {
                    "name": "stdout",
                    "output_type": "stream",
                    "text": "Not assigned\n\nNot assigned\n\nParkwoods\n\nVictoria Village\n\nRegent Park, Harbourfront\n\nLawrence Manor, Lawrence Heights\n\nQueen's Park, Ontario Provincial Government\n\n"
                }
            ],
            "source": "toronto_venues = getNearbyVenues(names=neighborhoods,\n                                 latitudes=neighbors['Latitude'],\n                                 longitudes=neighbors['Longitude'])"
        },
        {
            "cell_type": "code",
            "execution_count": 16,
            "metadata": {},
            "outputs": [
                {
                    "name": "stdout",
                    "output_type": "stream",
                    "text": "(28, 7)\n"
                },
                {
                    "data": {
                        "text/html": "<div>\n<style scoped>\n    .dataframe tbody tr th:only-of-type {\n        vertical-align: middle;\n    }\n\n    .dataframe tbody tr th {\n        vertical-align: top;\n    }\n\n    .dataframe thead th {\n        text-align: right;\n    }\n</style>\n<table border=\"1\" class=\"dataframe\">\n  <thead>\n    <tr style=\"text-align: right;\">\n      <th></th>\n      <th>Neighborhood</th>\n      <th>Neighborhood Latitude</th>\n      <th>Neighborhood Longitude</th>\n      <th>Venue</th>\n      <th>Venue Latitude</th>\n      <th>Venue Longitude</th>\n      <th>Venue Category</th>\n    </tr>\n  </thead>\n  <tbody>\n    <tr>\n      <th>0</th>\n      <td>Not assigned</td>\n      <td>43.64869</td>\n      <td>-79.38544</td>\n      <td>Glen Manor Ravine</td>\n      <td>43.676821</td>\n      <td>-79.293942</td>\n      <td>Trail</td>\n    </tr>\n    <tr>\n      <th>1</th>\n      <td>Not assigned</td>\n      <td>43.64869</td>\n      <td>-79.38544</td>\n      <td>The Big Carrot Natural Food Market</td>\n      <td>43.678879</td>\n      <td>-79.297734</td>\n      <td>Health Food Store</td>\n    </tr>\n    <tr>\n      <th>2</th>\n      <td>Not assigned</td>\n      <td>43.64869</td>\n      <td>-79.38544</td>\n      <td>Grover Pub and Grub</td>\n      <td>43.679181</td>\n      <td>-79.297215</td>\n      <td>Pub</td>\n    </tr>\n    <tr>\n      <th>3</th>\n      <td>Not assigned</td>\n      <td>43.64869</td>\n      <td>-79.38544</td>\n      <td>Upper Beaches</td>\n      <td>43.680563</td>\n      <td>-79.292869</td>\n      <td>Neighborhood</td>\n    </tr>\n    <tr>\n      <th>4</th>\n      <td>Not assigned</td>\n      <td>43.64869</td>\n      <td>-79.38544</td>\n      <td>Glen Manor Ravine</td>\n      <td>43.676821</td>\n      <td>-79.293942</td>\n      <td>Trail</td>\n    </tr>\n  </tbody>\n</table>\n</div>",
                        "text/plain": "    Neighborhood  Neighborhood Latitude  Neighborhood Longitude  \\\n0  Not assigned\n               43.64869               -79.38544   \n1  Not assigned\n               43.64869               -79.38544   \n2  Not assigned\n               43.64869               -79.38544   \n3  Not assigned\n               43.64869               -79.38544   \n4  Not assigned\n               43.64869               -79.38544   \n\n                                Venue  Venue Latitude  Venue Longitude  \\\n0                   Glen Manor Ravine       43.676821       -79.293942   \n1  The Big Carrot Natural Food Market       43.678879       -79.297734   \n2                 Grover Pub and Grub       43.679181       -79.297215   \n3                       Upper Beaches       43.680563       -79.292869   \n4                   Glen Manor Ravine       43.676821       -79.293942   \n\n      Venue Category  \n0              Trail  \n1  Health Food Store  \n2                Pub  \n3       Neighborhood  \n4              Trail  "
                    },
                    "execution_count": 16,
                    "metadata": {},
                    "output_type": "execute_result"
                }
            ],
            "source": "print(toronto_venues.shape)\ntoronto_venues.head()"
        },
        {
            "cell_type": "code",
            "execution_count": 17,
            "metadata": {},
            "outputs": [
                {
                    "data": {
                        "text/html": "<div>\n<style scoped>\n    .dataframe tbody tr th:only-of-type {\n        vertical-align: middle;\n    }\n\n    .dataframe tbody tr th {\n        vertical-align: top;\n    }\n\n    .dataframe thead th {\n        text-align: right;\n    }\n</style>\n<table border=\"1\" class=\"dataframe\">\n  <thead>\n    <tr style=\"text-align: right;\">\n      <th></th>\n      <th>Neighborhood Latitude</th>\n      <th>Neighborhood Longitude</th>\n      <th>Venue</th>\n      <th>Venue Latitude</th>\n      <th>Venue Longitude</th>\n      <th>Venue Category</th>\n    </tr>\n    <tr>\n      <th>Neighborhood</th>\n      <th></th>\n      <th></th>\n      <th></th>\n      <th></th>\n      <th></th>\n      <th></th>\n    </tr>\n  </thead>\n  <tbody>\n    <tr>\n      <th>Lawrence Manor, Lawrence Heights</th>\n      <td>4</td>\n      <td>4</td>\n      <td>4</td>\n      <td>4</td>\n      <td>4</td>\n      <td>4</td>\n    </tr>\n    <tr>\n      <th>Not assigned</th>\n      <td>8</td>\n      <td>8</td>\n      <td>8</td>\n      <td>8</td>\n      <td>8</td>\n      <td>8</td>\n    </tr>\n    <tr>\n      <th>Parkwoods</th>\n      <td>4</td>\n      <td>4</td>\n      <td>4</td>\n      <td>4</td>\n      <td>4</td>\n      <td>4</td>\n    </tr>\n    <tr>\n      <th>Queen's Park, Ontario Provincial Government</th>\n      <td>4</td>\n      <td>4</td>\n      <td>4</td>\n      <td>4</td>\n      <td>4</td>\n      <td>4</td>\n    </tr>\n    <tr>\n      <th>Regent Park, Harbourfront</th>\n      <td>4</td>\n      <td>4</td>\n      <td>4</td>\n      <td>4</td>\n      <td>4</td>\n      <td>4</td>\n    </tr>\n    <tr>\n      <th>Victoria Village</th>\n      <td>4</td>\n      <td>4</td>\n      <td>4</td>\n      <td>4</td>\n      <td>4</td>\n      <td>4</td>\n    </tr>\n  </tbody>\n</table>\n</div>",
                        "text/plain": "                                              Neighborhood Latitude  \\\nNeighborhood                                                          \nLawrence Manor, Lawrence Heights                                  4   \n                                                                  8   \nNot assigned                                                      4   \n                                                                  4   \nParkwoods                                                         4   \n                                                                  4   \nQueen's Park, Ontario Provincial Government                           \n                                                                      \nRegent Park, Harbourfront                                             \n                                                                      \nVictoria Village                                                      \n                                                                      \n\n                                              Neighborhood Longitude  Venue  \\\nNeighborhood                                                                  \nLawrence Manor, Lawrence Heights                                   4      4   \n                                                                   8      8   \nNot assigned                                                       4      4   \n                                                                   4      4   \nParkwoods                                                          4      4   \n                                                                   4      4   \nQueen's Park, Ontario Provincial Government                                   \n                                                                              \nRegent Park, Harbourfront                                                     \n                                                                              \nVictoria Village                                                              \n                                                                              \n\n                                              Venue Latitude  Venue Longitude  \\\nNeighborhood                                                                    \nLawrence Manor, Lawrence Heights                           4                4   \n                                                           8                8   \nNot assigned                                               4                4   \n                                                           4                4   \nParkwoods                                                  4                4   \n                                                           4                4   \nQueen's Park, Ontario Provincial Government                                     \n                                                                                \nRegent Park, Harbourfront                                                       \n                                                                                \nVictoria Village                                                                \n                                                                                \n\n                                              Venue Category  \nNeighborhood                                                  \nLawrence Manor, Lawrence Heights                           4  \n                                                           8  \nNot assigned                                               4  \n                                                           4  \nParkwoods                                                  4  \n                                                           4  \nQueen's Park, Ontario Provincial Government                   \n                                                              \nRegent Park, Harbourfront                                     \n                                                              \nVictoria Village                                              \n                                                              "
                    },
                    "execution_count": 17,
                    "metadata": {},
                    "output_type": "execute_result"
                }
            ],
            "source": "# check how many venues were returned for each neighborhood\n\ntoronto_venues.groupby('Neighborhood').count()"
        },
        {
            "cell_type": "code",
            "execution_count": 18,
            "metadata": {},
            "outputs": [
                {
                    "name": "stdout",
                    "output_type": "stream",
                    "text": "There are 4 uniques categories.\n"
                }
            ],
            "source": "# find out how many unique categories can be curated from all the returned venues\n\nprint('There are {} uniques categories.'.format(len(toronto_venues['Venue Category'].unique())))"
        },
        {
            "cell_type": "code",
            "execution_count": 19,
            "metadata": {},
            "outputs": [
                {
                    "data": {
                        "text/html": "<div>\n<style scoped>\n    .dataframe tbody tr th:only-of-type {\n        vertical-align: middle;\n    }\n\n    .dataframe tbody tr th {\n        vertical-align: top;\n    }\n\n    .dataframe thead th {\n        text-align: right;\n    }\n</style>\n<table border=\"1\" class=\"dataframe\">\n  <thead>\n    <tr style=\"text-align: right;\">\n      <th></th>\n      <th>Trail</th>\n      <th>Health Food Store</th>\n      <th>Neighborhood</th>\n      <th>Pub</th>\n    </tr>\n  </thead>\n  <tbody>\n    <tr>\n      <th>0</th>\n      <td>1</td>\n      <td>0</td>\n      <td>Not assigned</td>\n      <td>0</td>\n    </tr>\n    <tr>\n      <th>1</th>\n      <td>0</td>\n      <td>1</td>\n      <td>Not assigned</td>\n      <td>0</td>\n    </tr>\n    <tr>\n      <th>2</th>\n      <td>0</td>\n      <td>0</td>\n      <td>Not assigned</td>\n      <td>1</td>\n    </tr>\n    <tr>\n      <th>3</th>\n      <td>0</td>\n      <td>0</td>\n      <td>Not assigned</td>\n      <td>0</td>\n    </tr>\n    <tr>\n      <th>4</th>\n      <td>1</td>\n      <td>0</td>\n      <td>Not assigned</td>\n      <td>0</td>\n    </tr>\n  </tbody>\n</table>\n</div>",
                        "text/plain": "   Trail  Health Food Store   Neighborhood  Pub\n0      1                  0  Not assigned\n    0\n1      0                  1  Not assigned\n    0\n2      0                  0  Not assigned\n    1\n3      0                  0  Not assigned\n    0\n4      1                  0  Not assigned\n    0"
                    },
                    "execution_count": 19,
                    "metadata": {},
                    "output_type": "execute_result"
                }
            ],
            "source": "# one hot encoding\ntoronto_onehot = pd.get_dummies(toronto_venues[['Venue Category']], prefix=\"\", prefix_sep=\"\")\n\n# add neighborhood column back to dataframe\ntoronto_onehot['Neighborhood'] = toronto_venues['Neighborhood'] \n\n# move neighborhood column to the first column\nfixed_columns = [toronto_onehot.columns[-1]] + list(toronto_onehot.columns[:-1])\ntoronto_onehot = toronto_onehot[fixed_columns]\n\ntoronto_onehot.head()"
        },
        {
            "cell_type": "code",
            "execution_count": 20,
            "metadata": {},
            "outputs": [
                {
                    "data": {
                        "text/plain": "(28, 4)"
                    },
                    "execution_count": 20,
                    "metadata": {},
                    "output_type": "execute_result"
                }
            ],
            "source": "# examine the new dataframe size.\n\ntoronto_onehot.shape"
        },
        {
            "cell_type": "code",
            "execution_count": 21,
            "metadata": {},
            "outputs": [
                {
                    "data": {
                        "text/html": "<div>\n<style scoped>\n    .dataframe tbody tr th:only-of-type {\n        vertical-align: middle;\n    }\n\n    .dataframe tbody tr th {\n        vertical-align: top;\n    }\n\n    .dataframe thead th {\n        text-align: right;\n    }\n</style>\n<table border=\"1\" class=\"dataframe\">\n  <thead>\n    <tr style=\"text-align: right;\">\n      <th></th>\n      <th>Neighborhood</th>\n      <th>Trail</th>\n      <th>Health Food Store</th>\n      <th>Pub</th>\n    </tr>\n  </thead>\n  <tbody>\n    <tr>\n      <th>0</th>\n      <td>Lawrence Manor, Lawrence Heights</td>\n      <td>0.25</td>\n      <td>0.25</td>\n      <td>0.25</td>\n    </tr>\n    <tr>\n      <th>1</th>\n      <td>Not assigned</td>\n      <td>0.25</td>\n      <td>0.25</td>\n      <td>0.25</td>\n    </tr>\n    <tr>\n      <th>2</th>\n      <td>Parkwoods</td>\n      <td>0.25</td>\n      <td>0.25</td>\n      <td>0.25</td>\n    </tr>\n    <tr>\n      <th>3</th>\n      <td>Queen's Park, Ontario Provincial Government</td>\n      <td>0.25</td>\n      <td>0.25</td>\n      <td>0.25</td>\n    </tr>\n    <tr>\n      <th>4</th>\n      <td>Regent Park, Harbourfront</td>\n      <td>0.25</td>\n      <td>0.25</td>\n      <td>0.25</td>\n    </tr>\n    <tr>\n      <th>5</th>\n      <td>Victoria Village</td>\n      <td>0.25</td>\n      <td>0.25</td>\n      <td>0.25</td>\n    </tr>\n  </tbody>\n</table>\n</div>",
                        "text/plain": "                                   Neighborhood  Trail  Health Food Store  \\\n0             Lawrence Manor, Lawrence Heights\n   0.25               0.25   \n1                                 Not assigned\n   0.25               0.25   \n2                                    Parkwoods\n   0.25               0.25   \n3  Queen's Park, Ontario Provincial Government\n   0.25               0.25   \n4                    Regent Park, Harbourfront\n   0.25               0.25   \n5                             Victoria Village\n   0.25               0.25   \n\n    Pub  \n0  0.25  \n1  0.25  \n2  0.25  \n3  0.25  \n4  0.25  \n5  0.25  "
                    },
                    "execution_count": 21,
                    "metadata": {},
                    "output_type": "execute_result"
                }
            ],
            "source": "# group rows by neighborhood and by taking the mean of the frequency of occurrence of each category\n\ntoronto_grouped = toronto_onehot.groupby('Neighborhood').mean().reset_index()\ntoronto_grouped"
        },
        {
            "cell_type": "code",
            "execution_count": 22,
            "metadata": {},
            "outputs": [
                {
                    "data": {
                        "text/plain": "(6, 4)"
                    },
                    "execution_count": 22,
                    "metadata": {},
                    "output_type": "execute_result"
                }
            ],
            "source": "# confirm the new size\n\ntoronto_grouped.shape"
        },
        {
            "cell_type": "code",
            "execution_count": 23,
            "metadata": {},
            "outputs": [
                {
                    "name": "stdout",
                    "output_type": "stream",
                    "text": "----Lawrence Manor, Lawrence Heights\n----\n               venue  freq\n0              Trail  0.25\n1  Health Food Store  0.25\n2                Pub  0.25\n\n\n----Not assigned\n----\n               venue  freq\n0              Trail  0.25\n1  Health Food Store  0.25\n2                Pub  0.25\n\n\n----Parkwoods\n----\n               venue  freq\n0              Trail  0.25\n1  Health Food Store  0.25\n2                Pub  0.25\n\n\n----Queen's Park, Ontario Provincial Government\n----\n               venue  freq\n0              Trail  0.25\n1  Health Food Store  0.25\n2                Pub  0.25\n\n\n----Regent Park, Harbourfront\n----\n               venue  freq\n0              Trail  0.25\n1  Health Food Store  0.25\n2                Pub  0.25\n\n\n----Victoria Village\n----\n               venue  freq\n0              Trail  0.25\n1  Health Food Store  0.25\n2                Pub  0.25\n\n\n"
                }
            ],
            "source": "# print each neighborhood along with the top 5 most common venues\n\nnum_top_venues = 5\n\nfor hood in toronto_grouped['Neighborhood']:\n    print(\"----\"+hood+\"----\")\n    temp = toronto_grouped[toronto_grouped['Neighborhood'] == hood].T.reset_index()\n    temp.columns = ['venue','freq']\n    temp = temp.iloc[1:]\n    temp['freq'] = temp['freq'].astype(float)\n    temp = temp.round({'freq': 2})\n    print(temp.sort_values('freq', ascending=False).reset_index(drop=True).head(num_top_venues))\n    print('\\n')"
        },
        {
            "cell_type": "code",
            "execution_count": 24,
            "metadata": {},
            "outputs": [],
            "source": "# sort the venues in descending order.\n\ndef return_most_common_venues(row, num_top_venues):\n    row_categories = row.iloc[1:]\n    row_categories_sorted = row_categories.sort_values(ascending=False)\n    \n    return row_categories_sorted.index.values[0:num_top_venues]"
        },
        {
            "cell_type": "code",
            "execution_count": 25,
            "metadata": {},
            "outputs": [
                {
                    "data": {
                        "text/html": "<div>\n<style scoped>\n    .dataframe tbody tr th:only-of-type {\n        vertical-align: middle;\n    }\n\n    .dataframe tbody tr th {\n        vertical-align: top;\n    }\n\n    .dataframe thead th {\n        text-align: right;\n    }\n</style>\n<table border=\"1\" class=\"dataframe\">\n  <thead>\n    <tr style=\"text-align: right;\">\n      <th></th>\n      <th>Neighborhood</th>\n      <th>1st Most Common Venue</th>\n      <th>2nd Most Common Venue</th>\n      <th>3rd Most Common Venue</th>\n    </tr>\n  </thead>\n  <tbody>\n    <tr>\n      <th>0</th>\n      <td>Lawrence Manor, Lawrence Heights</td>\n      <td>Pub</td>\n      <td>Health Food Store</td>\n      <td>Trail</td>\n    </tr>\n    <tr>\n      <th>1</th>\n      <td>Not assigned</td>\n      <td>Pub</td>\n      <td>Health Food Store</td>\n      <td>Trail</td>\n    </tr>\n    <tr>\n      <th>2</th>\n      <td>Parkwoods</td>\n      <td>Pub</td>\n      <td>Health Food Store</td>\n      <td>Trail</td>\n    </tr>\n    <tr>\n      <th>3</th>\n      <td>Queen's Park, Ontario Provincial Government</td>\n      <td>Pub</td>\n      <td>Health Food Store</td>\n      <td>Trail</td>\n    </tr>\n    <tr>\n      <th>4</th>\n      <td>Regent Park, Harbourfront</td>\n      <td>Pub</td>\n      <td>Health Food Store</td>\n      <td>Trail</td>\n    </tr>\n  </tbody>\n</table>\n</div>",
                        "text/plain": "                                   Neighborhood 1st Most Common Venue  \\\n0             Lawrence Manor, Lawrence Heights\n                   Pub   \n1                                 Not assigned\n                   Pub   \n2                                    Parkwoods\n                   Pub   \n3  Queen's Park, Ontario Provincial Government\n                   Pub   \n4                    Regent Park, Harbourfront\n                   Pub   \n\n  2nd Most Common Venue 3rd Most Common Venue  \n0     Health Food Store                 Trail  \n1     Health Food Store                 Trail  \n2     Health Food Store                 Trail  \n3     Health Food Store                 Trail  \n4     Health Food Store                 Trail  "
                    },
                    "execution_count": 25,
                    "metadata": {},
                    "output_type": "execute_result"
                }
            ],
            "source": "# create the new dataframe and display the top 10 venues for each neighborhood.\n\nnum_top_venues = 3\n\nindicators = ['st', 'nd', 'rd']\n\n# create columns according to number of top venues\ncolumns = ['Neighborhood']\nfor ind in np.arange(num_top_venues):\n    try:\n        columns.append('{}{} Most Common Venue'.format(ind+1, indicators[ind]))\n    except:\n        columns.append('{}th Most Common Venue'.format(ind+1))\n\n# create a new dataframe\nneighborhoods_venues_sorted = pd.DataFrame(columns=columns)\nneighborhoods_venues_sorted['Neighborhood'] = toronto_grouped['Neighborhood']\n\nfor ind in np.arange(toronto_grouped.shape[0]):\n    neighborhoods_venues_sorted.iloc[ind, 1:] = return_most_common_venues(toronto_grouped.iloc[ind, :], num_top_venues)\n\nneighborhoods_venues_sorted.head()"
        },
        {
            "cell_type": "code",
            "execution_count": 26,
            "metadata": {},
            "outputs": [
                {
                    "name": "stderr",
                    "output_type": "stream",
                    "text": "/opt/conda/envs/Python36/lib/python3.6/site-packages/sklearn/cluster/k_means_.py:971: ConvergenceWarning: Number of distinct clusters (1) found smaller than n_clusters (5). Possibly due to duplicate points in X.\n  return_n_iter=True)\n"
                },
                {
                    "data": {
                        "text/plain": "array([0, 0, 0, 0, 0, 0], dtype=int32)"
                    },
                    "execution_count": 26,
                    "metadata": {},
                    "output_type": "execute_result"
                }
            ],
            "source": "# Run k-means to cluster the neighborhood into 5 clusters.\n\n# set number of clusters\nkclusters = 5\n\ntoronto_grouped_clustering = toronto_grouped.drop('Neighborhood', 1)\n\n# run k-means clustering\nkmeans = KMeans(n_clusters=kclusters, random_state=0).fit(toronto_grouped_clustering)\n\n# check cluster labels generated for each row in the dataframe\nkmeans.labels_[0:10]"
        },
        {
            "cell_type": "code",
            "execution_count": 27,
            "metadata": {},
            "outputs": [
                {
                    "data": {
                        "text/html": "<div>\n<style scoped>\n    .dataframe tbody tr th:only-of-type {\n        vertical-align: middle;\n    }\n\n    .dataframe tbody tr th {\n        vertical-align: top;\n    }\n\n    .dataframe thead th {\n        text-align: right;\n    }\n</style>\n<table border=\"1\" class=\"dataframe\">\n  <thead>\n    <tr style=\"text-align: right;\">\n      <th></th>\n      <th>PostalCode</th>\n      <th>Borough</th>\n      <th>Neighborhood</th>\n      <th>Latitude</th>\n      <th>Longitude</th>\n      <th>Cluster Labels</th>\n      <th>1st Most Common Venue</th>\n      <th>2nd Most Common Venue</th>\n      <th>3rd Most Common Venue</th>\n    </tr>\n  </thead>\n  <tbody>\n    <tr>\n      <th>0</th>\n      <td>M1A</td>\n      <td>Not assigned</td>\n      <td>Not assigned</td>\n      <td>43.648690</td>\n      <td>-79.385440</td>\n      <td>0</td>\n      <td>Pub</td>\n      <td>Health Food Store</td>\n      <td>Trail</td>\n    </tr>\n    <tr>\n      <th>1</th>\n      <td>M2A</td>\n      <td>Not assigned</td>\n      <td>Not assigned</td>\n      <td>43.648690</td>\n      <td>-79.385440</td>\n      <td>0</td>\n      <td>Pub</td>\n      <td>Health Food Store</td>\n      <td>Trail</td>\n    </tr>\n    <tr>\n      <th>2</th>\n      <td>M3A</td>\n      <td>North York</td>\n      <td>Parkwoods</td>\n      <td>43.752935</td>\n      <td>-79.335641</td>\n      <td>0</td>\n      <td>Pub</td>\n      <td>Health Food Store</td>\n      <td>Trail</td>\n    </tr>\n    <tr>\n      <th>3</th>\n      <td>M4A</td>\n      <td>North York</td>\n      <td>Victoria Village</td>\n      <td>43.728102</td>\n      <td>-79.311890</td>\n      <td>0</td>\n      <td>Pub</td>\n      <td>Health Food Store</td>\n      <td>Trail</td>\n    </tr>\n    <tr>\n      <th>4</th>\n      <td>M5A</td>\n      <td>Downtown Toronto</td>\n      <td>Regent Park, Harbourfront</td>\n      <td>43.650964</td>\n      <td>-79.353041</td>\n      <td>0</td>\n      <td>Pub</td>\n      <td>Health Food Store</td>\n      <td>Trail</td>\n    </tr>\n  </tbody>\n</table>\n</div>",
                        "text/plain": "  PostalCode            Borough                Neighborhood   Latitude  \\\n0       M1A\n      Not assigned\n               Not assigned\n  43.648690   \n1       M2A\n      Not assigned\n               Not assigned\n  43.648690   \n2       M3A\n        North York\n                  Parkwoods\n  43.752935   \n3       M4A\n        North York\n           Victoria Village\n  43.728102   \n4       M5A\n  Downtown Toronto\n  Regent Park, Harbourfront\n  43.650964   \n\n   Longitude  Cluster Labels 1st Most Common Venue 2nd Most Common Venue  \\\n0 -79.385440               0                   Pub     Health Food Store   \n1 -79.385440               0                   Pub     Health Food Store   \n2 -79.335641               0                   Pub     Health Food Store   \n3 -79.311890               0                   Pub     Health Food Store   \n4 -79.353041               0                   Pub     Health Food Store   \n\n  3rd Most Common Venue  \n0                 Trail  \n1                 Trail  \n2                 Trail  \n3                 Trail  \n4                 Trail  "
                    },
                    "execution_count": 27,
                    "metadata": {},
                    "output_type": "execute_result"
                }
            ],
            "source": "# create a new dataframe that includes the cluster as well as the top 10 venues for each neighborhood.\n\n# add clustering labels\nneighborhoods_venues_sorted.insert(0, 'Cluster Labels', kmeans.labels_)\n\ntoronto_merged = neighbors\n\n# merge toronto_grouped with toronto_data to add latitude/longitude for each neighborhood\ntoronto_merged = toronto_merged.join(neighborhoods_venues_sorted.set_index('Neighborhood'), on='Neighborhood')\n\ntoronto_merged.head() # check the last columns!"
        },
        {
            "cell_type": "code",
            "execution_count": 28,
            "metadata": {},
            "outputs": [
                {
                    "data": {
                        "text/html": "<div style=\"width:100%;\"><div style=\"position:relative;width:100%;height:0;padding-bottom:60%;\"><span style=\"color:#565656\">Make this Notebook Trusted to load map: File -> Trust Notebook</span><iframe src=\"about:blank\" style=\"position:absolute;width:100%;height:100%;left:0;top:0;border:none !important;\" data-html=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 onload=\"this.contentDocument.open();this.contentDocument.write(atob(this.getAttribute('data-html')));this.contentDocument.close();\" allowfullscreen webkitallowfullscreen mozallowfullscreen></iframe></div></div>",
                        "text/plain": "<folium.folium.Map at 0x7fd263d22d68>"
                    },
                    "execution_count": 28,
                    "metadata": {},
                    "output_type": "execute_result"
                }
            ],
            "source": "# Finally, let's visualize the resulting clusters\n\n# create map\nmap_clusters = folium.Map(location=[43.67635739999999, -79.2930312], zoom_start=11)\n\n# set color scheme for the clusters\nx = np.arange(kclusters)\nys = [i + x + (i*x)**2 for i in range(kclusters)]\ncolors_array = cm.rainbow(np.linspace(0, 1, len(ys)))\nrainbow = [colors.rgb2hex(i) for i in colors_array]\n\n# add markers to the map\nmarkers_colors = []\nfor lat, lon, poi, cluster in zip(toronto_merged['Latitude'], toronto_merged['Longitude'], toronto_merged['Neighborhood'], toronto_merged['Cluster Labels']):\n    label = folium.Popup(str(poi) + ' Cluster ' + str(cluster), parse_html=True)\n    folium.CircleMarker(\n        [lat, lon],\n        radius=5,\n        popup=label,\n        color=rainbow[cluster-1],\n        fill=True,\n        fill_color=rainbow[cluster-1],\n        fill_opacity=0.7).add_to(map_clusters)\n       \nmap_clusters"
        },
        {
            "cell_type": "code",
            "execution_count": 29,
            "metadata": {},
            "outputs": [
                {
                    "data": {
                        "text/html": "<div>\n<style scoped>\n    .dataframe tbody tr th:only-of-type {\n        vertical-align: middle;\n    }\n\n    .dataframe tbody tr th {\n        vertical-align: top;\n    }\n\n    .dataframe thead th {\n        text-align: right;\n    }\n</style>\n<table border=\"1\" class=\"dataframe\">\n  <thead>\n    <tr style=\"text-align: right;\">\n      <th></th>\n      <th>Borough</th>\n      <th>Cluster Labels</th>\n      <th>1st Most Common Venue</th>\n      <th>2nd Most Common Venue</th>\n      <th>3rd Most Common Venue</th>\n    </tr>\n  </thead>\n  <tbody>\n    <tr>\n      <th>0</th>\n      <td>Not assigned</td>\n      <td>0</td>\n      <td>Pub</td>\n      <td>Health Food Store</td>\n      <td>Trail</td>\n    </tr>\n    <tr>\n      <th>1</th>\n      <td>Not assigned</td>\n      <td>0</td>\n      <td>Pub</td>\n      <td>Health Food Store</td>\n      <td>Trail</td>\n    </tr>\n    <tr>\n      <th>2</th>\n      <td>North York</td>\n      <td>0</td>\n      <td>Pub</td>\n      <td>Health Food Store</td>\n      <td>Trail</td>\n    </tr>\n    <tr>\n      <th>3</th>\n      <td>North York</td>\n      <td>0</td>\n      <td>Pub</td>\n      <td>Health Food Store</td>\n      <td>Trail</td>\n    </tr>\n    <tr>\n      <th>4</th>\n      <td>Downtown Toronto</td>\n      <td>0</td>\n      <td>Pub</td>\n      <td>Health Food Store</td>\n      <td>Trail</td>\n    </tr>\n    <tr>\n      <th>5</th>\n      <td>North York</td>\n      <td>0</td>\n      <td>Pub</td>\n      <td>Health Food Store</td>\n      <td>Trail</td>\n    </tr>\n    <tr>\n      <th>6</th>\n      <td>Downtown Toronto</td>\n      <td>0</td>\n      <td>Pub</td>\n      <td>Health Food Store</td>\n      <td>Trail</td>\n    </tr>\n  </tbody>\n</table>\n</div>",
                        "text/plain": "             Borough  Cluster Labels 1st Most Common Venue  \\\n0      Not assigned\n               0                   Pub   \n1      Not assigned\n               0                   Pub   \n2        North York\n               0                   Pub   \n3        North York\n               0                   Pub   \n4  Downtown Toronto\n               0                   Pub   \n5        North York\n               0                   Pub   \n6  Downtown Toronto\n               0                   Pub   \n\n  2nd Most Common Venue 3rd Most Common Venue  \n0     Health Food Store                 Trail  \n1     Health Food Store                 Trail  \n2     Health Food Store                 Trail  \n3     Health Food Store                 Trail  \n4     Health Food Store                 Trail  \n5     Health Food Store                 Trail  \n6     Health Food Store                 Trail  "
                    },
                    "execution_count": 29,
                    "metadata": {},
                    "output_type": "execute_result"
                }
            ],
            "source": "# CLUSTER 1\n\ntoronto_merged.loc[toronto_merged['Cluster Labels'] == 0, toronto_merged.columns[[1] + list(range(5, toronto_merged.shape[1]))]]"
        },
        {
            "cell_type": "code",
            "execution_count": null,
            "metadata": {},
            "outputs": [],
            "source": ""
        }
    ],
    "metadata": {
        "kernelspec": {
            "display_name": "Python 3.6",
            "language": "python",
            "name": "python3"
        },
        "language_info": {
            "codemirror_mode": {
                "name": "ipython",
                "version": 3
            },
            "file_extension": ".py",
            "mimetype": "text/x-python",
            "name": "python",
            "nbconvert_exporter": "python",
            "pygments_lexer": "ipython3",
            "version": "3.6.9"
        }
    },
    "nbformat": 4,
    "nbformat_minor": 1
}